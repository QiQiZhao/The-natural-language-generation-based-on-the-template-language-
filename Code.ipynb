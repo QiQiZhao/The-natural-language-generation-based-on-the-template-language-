{
 "cells": [
  {
   "cell_type": "code",
   "execution_count": 1,
   "metadata": {},
   "outputs": [],
   "source": [
    "import tkinter as tk\n",
    "from nltk.tokenize import word_tokenize\n",
    "import nltk\n",
    "from nltk.corpus import stopwords\n",
    "from SPARQLWrapper import SPARQLWrapper, JSON"
   ]
  },
  {
   "cell_type": "code",
   "execution_count": 2,
   "metadata": {},
   "outputs": [],
   "source": [
    "def HowAbout(School):\n",
    "    sparql = SPARQLWrapper(\"http://localhost:3030/new/query\")\n",
    "    sparql.setQuery(\"\"\"\n",
    "    PREFIX : <http://www.new.com#>\n",
    "    SELECT ?r1 ?r2 ?r3 WHERE {\n",
    "    ?s :Ranking1 ?r1.\n",
    "    ?s :Ranking2 ?r2.\n",
    "    ?s :Ranking3 ?r3.\n",
    "    ?s :Institution \"%s\".\n",
    "}\n",
    "\"\"\"% ''.join((School)))\n",
    "    sparql.setReturnFormat(JSON)\n",
    "    results = sparql.query().convert()\n",
    "    if results['results']['bindings']==[]:\n",
    "        return 0,0,0\n",
    "    return results['results']['bindings'][0]['r1']['value'],results['results']['bindings'][0]['r2']['value'],results['results']['bindings'][0]['r3']['value']"
   ]
  },
  {
   "cell_type": "code",
   "execution_count": 3,
   "metadata": {},
   "outputs": [],
   "source": [
    "def WhichBest():\n",
    "    sparql = SPARQLWrapper(\"http://localhost:3030/new/query\")\n",
    "    sparql.setQuery(\"\"\"\n",
    "   PREFIX : <http://www.new.com#>\n",
    "   SELECT ?a WHERE {\n",
    "   ?s :Ranking3 ?r.\n",
    "   ?s :Institution ?a.\n",
    "FILTER(?r=1).\n",
    "}\n",
    "\"\"\")\n",
    "    sparql.setReturnFormat(JSON)\n",
    "    results = sparql.query().convert()\n",
    "    return results['results']['bindings'][0]['a']['value']"
   ]
  },
  {
   "cell_type": "code",
   "execution_count": 4,
   "metadata": {},
   "outputs": [],
   "source": [
    "def search(question):\n",
    "    processedWords = []\n",
    "    Answer=''\n",
    "    words = nltk.word_tokenize(question)\n",
    "    sTwords = stopwords.words('english')\n",
    "    for word in words:\n",
    "        if word not in sTwords:\n",
    "            processedWords.append(word)\n",
    "    tagged_words = nltk.pos_tag(processedWords)\n",
    "    if (tagged_words[0][1] == 'WRB' and tagged_words[0][0] == 'How'):\n",
    "        term = ''\n",
    "        i = 0\n",
    "        for word in tagged_words:\n",
    "            if (word[1] == 'NNP'):\n",
    "                if (i == 0):\n",
    "                    term += word[0]\n",
    "                else:\n",
    "                    term += ' ' + word[0]\n",
    "\n",
    "                i += 1\n",
    "    \n",
    "        R1,R2,R3=HowAbout(term)\n",
    "        if R1==R2 and R2==R3 and R1==0:\n",
    "            return \"I don't know.\"\n",
    "        R1=int(R1)\n",
    "        R2=int(R2)\n",
    "        R3=int(R3)\n",
    "        if R3<=10:\n",
    "            Answer=Answer+term+\" is a great University. \"\n",
    "        Answer+=\"In this year, the ranking of %s is %d in the United Kindom.\"%(term,R3)\n",
    "        if (R1<R2 and R2<=R3) or (R1<=R2 and R2<R3):\n",
    "            Answer+=\"The institution's ranking is constantly decreasing in recent 3 years:%d→%d→%d.\"%(R1,R2,R3)\n",
    "        elif (R1>R2 and R2>=R3) or (R1>=R2 and R2>R3):\n",
    "            Answer+=\"The institution's ranking is constantly increasing in recent 3 years:%d→%d→%d.\"%(R1,R2,R3)\n",
    "        elif R1==R2 and R1==R3:\n",
    "            Answer+=\"According to recent three years, the institution's ranking is very stable.\"\n",
    "        else:\n",
    "            Answer+=\"In recent years, its ranking is floating: %d→%d→%d.\"%(R1,R2,R3)\n",
    "        return Answer\n",
    "    \n",
    "    if (tagged_words[0][1] == 'JJ' and tagged_words[0][0] == 'Which') and\\\n",
    "    (tagged_words[1][0]=='best'or tagged_words[1][0]=='top'or\\\n",
    "     tagged_words[2][0]=='best'or tagged_words[2][0]=='top'):\n",
    "        School=WhichBest()\n",
    "        return \"%s is the Top 1 institution in the UK.\"%School\n",
    "    "
   ]
  },
  {
   "cell_type": "code",
   "execution_count": 5,
   "metadata": {},
   "outputs": [],
   "source": [
    "def clicked():\n",
    "    answer=search(e.get())\n",
    "    if type(answer)==str:\n",
    "        show.configure(text=\"Answer: \\n\"+answer)\n",
    "    else:\n",
    "        show.configure(text=\"I don't know.\")\n",
    "    \n",
    "    \n",
    "#     lbl.configure(text=\"Button was clicked !!\")"
   ]
  },
  {
   "cell_type": "code",
   "execution_count": 6,
   "metadata": {},
   "outputs": [],
   "source": [
    "window=tk.Tk()\n",
    "window.title(\"Welcome to Xin's question machine\")\n",
    "window.geometry('500x500')\n",
    "\n",
    "lbl = tk.Label(window, text=\"Please input your question:\",font=(\"Arial Bold\", 20))\n",
    "lbl.place(x=65, y=20)\n",
    "\n",
    "e = tk.StringVar()\n",
    "\n",
    "entry=tk.Entry(window,textvariable = e)\n",
    "entry.place(x=65, y=100, width=380, height=60)\n",
    "btn = tk.Button(window, text=\"Search\",command=clicked)\n",
    "btn.place(x=400,y=190)\n",
    "\n",
    "show = tk.Label(window,wraplength=390)\n",
    "show.place(x=65, y=250)\n",
    "\n",
    "# scream=tk.Label(anchor='e',bg='white',textvariable=var,font=('Arial,100'))\n",
    "# scream.place(x=65, y=100, width=380, height=60)\n",
    "\n",
    "\n",
    "\n",
    "\n",
    "\n",
    "window.mainloop()"
   ]
  },
  {
   "cell_type": "code",
   "execution_count": 134,
   "metadata": {},
   "outputs": [
    {
     "data": {
      "text/plain": [
       "'How about Southampton'"
      ]
     },
     "execution_count": 134,
     "metadata": {},
     "output_type": "execute_result"
    }
   ],
   "source": [
    "e.get()"
   ]
  },
  {
   "cell_type": "code",
   "execution_count": 81,
   "metadata": {},
   "outputs": [
    {
     "name": "stdout",
     "output_type": "stream",
     "text": [
      "Oxford is a great University. In this year, the ranking of Oxford is 2 in the United Kindom. According to recent three years, the institution's ranking is very stable. "
     ]
    }
   ],
   "source": [
    "search(\"How about Oxford\")"
   ]
  },
  {
   "cell_type": "code",
   "execution_count": 119,
   "metadata": {},
   "outputs": [],
   "source": [
    "a='Bath'"
   ]
  },
  {
   "cell_type": "code",
   "execution_count": 126,
   "metadata": {},
   "outputs": [
    {
     "name": "stdout",
     "output_type": "stream",
     "text": [
      "heww\n"
     ]
    }
   ],
   "source": [
    "if type(a)==str:\n",
    "    print(\"heww\")"
   ]
  },
  {
   "cell_type": "code",
   "execution_count": 86,
   "metadata": {},
   "outputs": [],
   "source": [
    "joinn+='cfff%s'%a"
   ]
  },
  {
   "cell_type": "code",
   "execution_count": 87,
   "metadata": {},
   "outputs": [
    {
     "data": {
      "text/plain": [
       "'cfffcfffxxxx'"
      ]
     },
     "execution_count": 87,
     "metadata": {},
     "output_type": "execute_result"
    }
   ],
   "source": [
    "joinn"
   ]
  },
  {
   "cell_type": "code",
   "execution_count": null,
   "metadata": {},
   "outputs": [],
   "source": []
  }
 ],
 "metadata": {
  "kernelspec": {
   "display_name": "Python 3",
   "language": "python",
   "name": "python3"
  },
  "language_info": {
   "codemirror_mode": {
    "name": "ipython",
    "version": 3
   },
   "file_extension": ".py",
   "mimetype": "text/x-python",
   "name": "python",
   "nbconvert_exporter": "python",
   "pygments_lexer": "ipython3",
   "version": "3.7.3"
  }
 },
 "nbformat": 4,
 "nbformat_minor": 2
}
